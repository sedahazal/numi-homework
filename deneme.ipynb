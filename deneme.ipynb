{
 "cells": [
  {
   "cell_type": "code",
   "execution_count": 17,
   "metadata": {},
   "outputs": [
    {
     "name": "stderr",
     "output_type": "stream",
     "text": [
      "c:\\users\\shk\\appdata\\local\\programs\\python\\python38-32\\lib\\site-packages\\bokeh\\models\\sources.py:108: BokehUserWarning: ColumnDataSource's columns must be of the same length. Current lengths: ('x', 9001), ('y', 9000)\n",
      "  lambda obj, name, data: warnings.warn(\n"
     ]
    }
   ],
   "source": [
    "from numpy import array,logspace,longfloat,append,cos,sin,exp,pi\n",
    "from bokeh.models import Range1d, PanTool, ResetTool, HoverTool, WheelZoomTool\n",
    "from numpy import loadtxt, arange\n",
    "from bokeh.io import output_file, show\n",
    "from bokeh.plotting import figure\n",
    "\n",
    "def read_file(file_name,column):\n",
    "    a1,a2,a3,a4,a5,a6,a7,a8 = loadtxt(file_name,skiprows=0,unpack=True)\n",
    "    return [a1,a2,a3,a4,a5,a6,a7,a8][column-1]\n",
    "\n",
    "class Graph():\n",
    "    def __init__(self,time,period,acceleration,pseudo_acceleration,velocity,displacement,response_acceleration,response_displacement,response_velocity,pseudo_velocity,frequency,fourier_amplitude,power_amplitude,arias_intensity,energy_flux,spectra_frequency):\n",
    "        \n",
    "        self.time=time\n",
    "        self.period=period\n",
    "        self.acceleration=acceleration\n",
    "        self.pseudo_acceleration=pseudo_acceleration\n",
    "        self.velocity=velocity\n",
    "        self.displacement=displacement\n",
    "        self.pseudo_velocity=pseudo_velocity\n",
    "        self.response_acceleration=response_acceleration\n",
    "        self.response_displacement=response_displacement\n",
    "        self.response_velocity=response_velocity\n",
    "        self.frequency=frequency\n",
    "        self.fourier_amplitude=fourier_amplitude\n",
    "        self.power_amplitude=power_amplitude\n",
    "        self.arias_intensity=arias_intensity\n",
    "        self.energy_flux=energy_flux\n",
    "        self.spectra_frequency=spectra_frequency\n",
    "        \n",
    "        \n",
    "    def graph(self,file_name,title,x,y,x_label,y_label,width,height,xticks,yticks,logx=\"auto\",logy=\"auto\"):\n",
    "    \n",
    "        output_file(file_name)\n",
    "    \n",
    "        f=figure(tools=[PanTool(), ResetTool(), WheelZoomTool()],x_axis_type=logx,y_axis_type=logy,x_range=xticks,y_range=yticks)\n",
    "        hover = HoverTool(tooltips=[(\"x\",\"$x\"),(\"y\", \"$y\")])\n",
    "    \n",
    "        f.add_tools(hover)\n",
    "        f.toolbar_location = 'above'\n",
    "        f.toolbar.logo = None\n",
    "    \n",
    "        f.plot_width=width\n",
    "        f.plot_height=height\n",
    "        f.xaxis.axis_label = x_label\n",
    "        f.yaxis.axis_label = y_label\n",
    "        \n",
    "        \n",
    "        f.title.text = title\n",
    "        f.title.text_color = \"black\"\n",
    "        f.title.text_alpha = 0.6\n",
    "        f.title.text_font = \"antiqua\"\n",
    "        f.title.text_font_size = \"18px\"\n",
    "        f.title.align = \"center\"\n",
    "        \n",
    "\n",
    "        f.line(x,y)\n",
    "\n",
    "        show(f)\n",
    "        \n",
    "    def seismosignal(self):\n",
    "        self.graph(\"acceleration.html\",\"\",self.time,self.acceleration,\"time(sec)\",\"acceleration(g)\",1100,660,[0,max(self.time)],[0,max(self.acceleration)])\n",
    "        self.graph(\"velocity.html\",\"\",self.time,self.velocity,\"time(sec)\",\"velocity(cm/sec)\",1100,660,[0,max(self.time)],[0,max(self.velocity)])\n",
    "        self.graph(\"displacement.html\",\"\",self.time,self.displacement,\"time(sec)\",\"displacement(cm)\",1100,660,[0,max(self.time)],[0,max(self.displacement)])\n",
    "        \n",
    "        self.graph(\"response_acceleration_period.html\",\"\",self.period,self.response_acceleration,\"period(sec)\",\"response acceleration(g)\",1100,660,[0,max(self.period)],[0,max(self.response_acceleration)])\n",
    "        self.graph(\"response_velocity_period.html\",\"\",self.period,self.response_velocity,\"period(sec)\",\"response velocity(cm/sec)\",1100,660,[0,max(self.period)],[0,max(self.response_velocity)])\n",
    "        self.graph(\"response_displacement_period.html\",\"\",self.period,self.response_displacement,\"period(sec)\",\"response displacement(cm)\",1100,660,[0,max(self.period)],[0,max(self.response_displacement)])\n",
    "        \n",
    "        self.graph(\"response_acceleration_frequency.html\",\"\",self.frequency,self.response_acceleration,\"frequency(Hz)\",\"response acceleration(g)\",1100,660,[0,max(self.frequency)],[0,max(self.response_acceleration)])\n",
    "        self.graph(\"response_velocity_frequency.html\",\"\",self.frequency,self.response_velocity,\"frequency(Hz)\",\"response velocity(cm/sec)\",1100,660,[0,max(self.frequency)],[0,max(self.response_velocity)])\n",
    "        self.graph(\"response_displacement_frequency.html\",\"\",self.frequency,self.response_displacement,\"frequency(Hz)\",\"response displacement(cm)\",1100,660,[0,max(self.period)],[0,max(self.response_displacement)])\n",
    "        \n",
    "        self.graph(\"response_acceleration_displacement.html\",\"\",self.displacement,self.response_acceleration,\"displacement(cm)\",\"response acceleration(g)\",1100,660,[0,max(self.displacement)],[0,max(self.response_acceleration)])\n",
    "        self.graph(\"response_velocity_displacement.html\",\"\",self.displacement,self.response_velocity,\"displacement(cm)\",\"response velocity(cm/sec)\",1100,660,[0,max(self.displacement)],[0,max(self.response_velocity)])\n",
    "        \n",
    "        \n",
    "        \n",
    "        self.graph(\"pseudo_acceleration_period.html\",\"\",self.period,self.pseudo_acceleration,\"period(sec)\",\"pseudo_acceleration(g)\",1100,660,[0,max(self.period)],[0,max(self.pseudo_acceleration)])\n",
    "        self.graph(\"pseudo_velocity_period.html\",\"\",self.period,self.pseudo_velocity,\"period(sec)\",\"pseudo_velocity(cm/sec)\",1100,660,[0,max(self.period)],[0,max(self.pseudo_velocity)])\n",
    "        \n",
    "        \n",
    "        self.graph(\"pseudo_acceleration_frequency.html\",\"\",self.frequency,self.pseudo_acceleration,\"frequency(Hz)\",\"pseudo_acceleration(g)\",1100,660,[0,max(self.frequency)],[0,max(self.pseudo_acceleration)])\n",
    "        self.graph(\"pseudo_velocity_frequency.html\",\"\",self.frequency,self.pseudo_velocity,\"frequency(Hz)\",\"pseudo_velocity(cm/sec)\",1100,660,[0,max(self.frequency)],[0,max(self.pseudo_velocity)]\n",
    "        \n",
    "        self.graph(\"pseudo_acceleration_displacement.html\",\"\",self.displacement,self.pseudo_acceleration,\"displacement(cm)\",\"pseudo_acceleration(g)\",1100,660,[0,max(self.displacement)],[0,max(self.pseudo_acceleration)])\n",
    "        self.graph(\"pseudo_velocity_displacement.html\",\"\",self.displacement,self.pseudo_velocity,\"displacement(cm)\",\"pseudo_velocity(cm/sec)\",1100,660,[0,max(self.displacement)],[0,max(self.pseudo_velocity)]\n",
    "        \n",
    "    \n",
    "        self.graph(\"fourier_spectra.html\",\"\",self.fourier_frequency,self.fourier_amplitude,\"frequency(Hz)\",\"fourier amplitude\",1100,660,[0,100],[0,max(self.fourier_amplitude)],\"log\")\n",
    "        self.graph(\"power_spectra.html\",\"\",self.fourier_frequency,self.power_amplitude,\"frequency(Hz)\",\"power amplitude\",1100,660,[0,100],[0,max(self.power_amplitude)],\"log\")\n",
    "        \n",
    "        self.graph(\"arias_intensity.html\",\"\",self.time,self.arias_intensity,\"time(sec)\",\"arias intensity(%)\",1100,660,[0,max(self.arias_intensity)],[0,max(self.time)]\n",
    "        self.graph(\"energy_flux.html\",\"\",self.time,self.energy_flux,\"time(sec)\",\"energy_flux(cm2/sec))\",1100,660,[0,max(self.energy_flux)],[0,max(self.time)]\n",
    "        \n",
    "        \n",
    "        \n",
    "        \n",
    "        a=read_file(\"oc4.txt\",1)   \n",
    "t= arange(0,len(a)*0.002+0.002,0.002)\n",
    "#self,file_name,title,x,y,x_label,y_label,width,height,xticks,yticks,logx=\"auto\",logy=\"auto\"\n",
    "b=Graph(1,2,3,4)\n",
    "b.graph(\"time_series.html\",\"time series\",t,a,\"time\",\"displacement\",1100,660,[0,10],[0,6],\"log\") "
   ]
  },
  {
   "cell_type": "code",
   "execution_count": 7,
   "metadata": {},
   "outputs": [
    {
     "ename": "NameError",
     "evalue": "name 'f' is not defined",
     "output_type": "error",
     "traceback": [
      "\u001b[1;31m---------------------------------------------------------------------------\u001b[0m",
      "\u001b[1;31mNameError\u001b[0m                                 Traceback (most recent call last)",
      "\u001b[1;32m<ipython-input-7-36ce9473b34d>\u001b[0m in \u001b[0;36m<module>\u001b[1;34m\u001b[0m\n\u001b[1;32m----> 1\u001b[1;33m \u001b[0mdir\u001b[0m\u001b[1;33m(\u001b[0m\u001b[0mf\u001b[0m\u001b[1;33m.\u001b[0m\u001b[0mxaxis\u001b[0m\u001b[1;33m)\u001b[0m\u001b[1;33m\u001b[0m\u001b[1;33m\u001b[0m\u001b[0m\n\u001b[0m",
      "\u001b[1;31mNameError\u001b[0m: name 'f' is not defined"
     ]
    }
   ],
   "source": [
    "\n"
   ]
  }
 ],
 "metadata": {
  "kernelspec": {
   "display_name": "Python 3",
   "language": "python",
   "name": "python3"
  },
  "language_info": {
   "codemirror_mode": {
    "name": "ipython",
    "version": 3
   },
   "file_extension": ".py",
   "mimetype": "text/x-python",
   "name": "python",
   "nbconvert_exporter": "python",
   "pygments_lexer": "ipython3",
   "version": "3.8.2"
  }
 },
 "nbformat": 4,
 "nbformat_minor": 4
}
